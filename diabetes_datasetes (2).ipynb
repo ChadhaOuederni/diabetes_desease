{
 "cells": [
  {
   "cell_type": "code",
   "execution_count": 1,
   "metadata": {
    "colab": {
     "base_uri": "https://localhost:8080/",
     "height": 206
    },
    "executionInfo": {
     "elapsed": 16,
     "status": "ok",
     "timestamp": 1732728799577,
     "user": {
      "displayName": "ouederni chadha",
      "userId": "02885416340215418691"
     },
     "user_tz": -60
    },
    "id": "oRGvLHSGHpd5",
    "outputId": "acf2e37e-d074-4587-a531-67c572a4d2e8"
   },
   "outputs": [
    {
     "name": "stderr",
     "output_type": "stream",
     "text": [
      "\n",
      "A module that was compiled using NumPy 1.x cannot be run in\n",
      "NumPy 2.0.2 as it may crash. To support both 1.x and 2.x\n",
      "versions of NumPy, modules must be compiled with NumPy 2.0.\n",
      "Some module may need to rebuild instead e.g. with 'pybind11>=2.12'.\n",
      "\n",
      "If you are a user of the module, the easiest solution will be to\n",
      "downgrade to 'numpy<2' or try to upgrade the affected module.\n",
      "We expect that some modules will need time to support NumPy 2.\n",
      "\n",
      "Traceback (most recent call last):  File \"c:\\ProgramData\\anaconda3\\lib\\runpy.py\", line 197, in _run_module_as_main\n",
      "    return _run_code(code, main_globals, None,\n",
      "  File \"c:\\ProgramData\\anaconda3\\lib\\runpy.py\", line 87, in _run_code\n",
      "    exec(code, run_globals)\n",
      "  File \"c:\\ProgramData\\anaconda3\\lib\\site-packages\\ipykernel_launcher.py\", line 18, in <module>\n",
      "    app.launch_new_instance()\n",
      "  File \"c:\\ProgramData\\anaconda3\\lib\\site-packages\\traitlets\\config\\application.py\", line 1075, in launch_instance\n",
      "    app.start()\n",
      "  File \"c:\\ProgramData\\anaconda3\\lib\\site-packages\\ipykernel\\kernelapp.py\", line 739, in start\n",
      "    self.io_loop.start()\n",
      "  File \"c:\\ProgramData\\anaconda3\\lib\\site-packages\\tornado\\platform\\asyncio.py\", line 205, in start\n",
      "    self.asyncio_loop.run_forever()\n",
      "  File \"c:\\ProgramData\\anaconda3\\lib\\asyncio\\base_events.py\", line 601, in run_forever\n",
      "    self._run_once()\n",
      "  File \"c:\\ProgramData\\anaconda3\\lib\\asyncio\\base_events.py\", line 1905, in _run_once\n",
      "    handle._run()\n",
      "  File \"c:\\ProgramData\\anaconda3\\lib\\asyncio\\events.py\", line 80, in _run\n",
      "    self._context.run(self._callback, *self._args)\n",
      "  File \"c:\\ProgramData\\anaconda3\\lib\\site-packages\\ipykernel\\kernelbase.py\", line 545, in dispatch_queue\n",
      "    await self.process_one()\n",
      "  File \"c:\\ProgramData\\anaconda3\\lib\\site-packages\\ipykernel\\kernelbase.py\", line 534, in process_one\n",
      "    await dispatch(*args)\n",
      "  File \"c:\\ProgramData\\anaconda3\\lib\\site-packages\\ipykernel\\kernelbase.py\", line 437, in dispatch_shell\n",
      "    await result\n",
      "  File \"c:\\ProgramData\\anaconda3\\lib\\site-packages\\ipykernel\\ipkernel.py\", line 362, in execute_request\n",
      "    await super().execute_request(stream, ident, parent)\n",
      "  File \"c:\\ProgramData\\anaconda3\\lib\\site-packages\\ipykernel\\kernelbase.py\", line 778, in execute_request\n",
      "    reply_content = await reply_content\n",
      "  File \"c:\\ProgramData\\anaconda3\\lib\\site-packages\\ipykernel\\ipkernel.py\", line 449, in do_execute\n",
      "    res = shell.run_cell(\n",
      "  File \"c:\\ProgramData\\anaconda3\\lib\\site-packages\\ipykernel\\zmqshell.py\", line 549, in run_cell\n",
      "    return super().run_cell(*args, **kwargs)\n",
      "  File \"c:\\ProgramData\\anaconda3\\lib\\site-packages\\IPython\\core\\interactiveshell.py\", line 3024, in run_cell\n",
      "    result = self._run_cell(\n",
      "  File \"c:\\ProgramData\\anaconda3\\lib\\site-packages\\IPython\\core\\interactiveshell.py\", line 3079, in _run_cell\n",
      "    result = runner(coro)\n",
      "  File \"c:\\ProgramData\\anaconda3\\lib\\site-packages\\IPython\\core\\async_helpers.py\", line 129, in _pseudo_sync_runner\n",
      "    coro.send(None)\n",
      "  File \"c:\\ProgramData\\anaconda3\\lib\\site-packages\\IPython\\core\\interactiveshell.py\", line 3284, in run_cell_async\n",
      "    has_raised = await self.run_ast_nodes(code_ast.body, cell_name,\n",
      "  File \"c:\\ProgramData\\anaconda3\\lib\\site-packages\\IPython\\core\\interactiveshell.py\", line 3466, in run_ast_nodes\n",
      "    if await self.run_code(code, result, async_=asy):\n",
      "  File \"c:\\ProgramData\\anaconda3\\lib\\site-packages\\IPython\\core\\interactiveshell.py\", line 3526, in run_code\n",
      "    exec(code_obj, self.user_global_ns, self.user_ns)\n",
      "  File \"C:\\Users\\chadh\\AppData\\Local\\Temp\\ipykernel_22400\\2626072816.py\", line 1, in <module>\n",
      "    import pandas as pd\n",
      "  File \"c:\\ProgramData\\anaconda3\\lib\\site-packages\\pandas\\__init__.py\", line 26, in <module>\n",
      "    from pandas.compat import (\n",
      "  File \"c:\\ProgramData\\anaconda3\\lib\\site-packages\\pandas\\compat\\__init__.py\", line 27, in <module>\n",
      "    from pandas.compat.pyarrow import (\n",
      "  File \"c:\\ProgramData\\anaconda3\\lib\\site-packages\\pandas\\compat\\pyarrow.py\", line 8, in <module>\n",
      "    import pyarrow as pa\n",
      "  File \"c:\\ProgramData\\anaconda3\\lib\\site-packages\\pyarrow\\__init__.py\", line 65, in <module>\n",
      "    import pyarrow.lib as _lib\n"
     ]
    },
    {
     "ename": "AttributeError",
     "evalue": "_ARRAY_API not found",
     "output_type": "error",
     "traceback": [
      "\u001b[1;31m---------------------------------------------------------------------------\u001b[0m",
      "\u001b[1;31mAttributeError\u001b[0m                            Traceback (most recent call last)",
      "\u001b[1;31mAttributeError\u001b[0m: _ARRAY_API not found"
     ]
    },
    {
     "name": "stderr",
     "output_type": "stream",
     "text": [
      "\n",
      "A module that was compiled using NumPy 1.x cannot be run in\n",
      "NumPy 2.0.2 as it may crash. To support both 1.x and 2.x\n",
      "versions of NumPy, modules must be compiled with NumPy 2.0.\n",
      "Some module may need to rebuild instead e.g. with 'pybind11>=2.12'.\n",
      "\n",
      "If you are a user of the module, the easiest solution will be to\n",
      "downgrade to 'numpy<2' or try to upgrade the affected module.\n",
      "We expect that some modules will need time to support NumPy 2.\n",
      "\n",
      "Traceback (most recent call last):  File \"c:\\ProgramData\\anaconda3\\lib\\runpy.py\", line 197, in _run_module_as_main\n",
      "    return _run_code(code, main_globals, None,\n",
      "  File \"c:\\ProgramData\\anaconda3\\lib\\runpy.py\", line 87, in _run_code\n",
      "    exec(code, run_globals)\n",
      "  File \"c:\\ProgramData\\anaconda3\\lib\\site-packages\\ipykernel_launcher.py\", line 18, in <module>\n",
      "    app.launch_new_instance()\n",
      "  File \"c:\\ProgramData\\anaconda3\\lib\\site-packages\\traitlets\\config\\application.py\", line 1075, in launch_instance\n",
      "    app.start()\n",
      "  File \"c:\\ProgramData\\anaconda3\\lib\\site-packages\\ipykernel\\kernelapp.py\", line 739, in start\n",
      "    self.io_loop.start()\n",
      "  File \"c:\\ProgramData\\anaconda3\\lib\\site-packages\\tornado\\platform\\asyncio.py\", line 205, in start\n",
      "    self.asyncio_loop.run_forever()\n",
      "  File \"c:\\ProgramData\\anaconda3\\lib\\asyncio\\base_events.py\", line 601, in run_forever\n",
      "    self._run_once()\n",
      "  File \"c:\\ProgramData\\anaconda3\\lib\\asyncio\\base_events.py\", line 1905, in _run_once\n",
      "    handle._run()\n",
      "  File \"c:\\ProgramData\\anaconda3\\lib\\asyncio\\events.py\", line 80, in _run\n",
      "    self._context.run(self._callback, *self._args)\n",
      "  File \"c:\\ProgramData\\anaconda3\\lib\\site-packages\\ipykernel\\kernelbase.py\", line 545, in dispatch_queue\n",
      "    await self.process_one()\n",
      "  File \"c:\\ProgramData\\anaconda3\\lib\\site-packages\\ipykernel\\kernelbase.py\", line 534, in process_one\n",
      "    await dispatch(*args)\n",
      "  File \"c:\\ProgramData\\anaconda3\\lib\\site-packages\\ipykernel\\kernelbase.py\", line 437, in dispatch_shell\n",
      "    await result\n",
      "  File \"c:\\ProgramData\\anaconda3\\lib\\site-packages\\ipykernel\\ipkernel.py\", line 362, in execute_request\n",
      "    await super().execute_request(stream, ident, parent)\n",
      "  File \"c:\\ProgramData\\anaconda3\\lib\\site-packages\\ipykernel\\kernelbase.py\", line 778, in execute_request\n",
      "    reply_content = await reply_content\n",
      "  File \"c:\\ProgramData\\anaconda3\\lib\\site-packages\\ipykernel\\ipkernel.py\", line 449, in do_execute\n",
      "    res = shell.run_cell(\n",
      "  File \"c:\\ProgramData\\anaconda3\\lib\\site-packages\\ipykernel\\zmqshell.py\", line 549, in run_cell\n",
      "    return super().run_cell(*args, **kwargs)\n",
      "  File \"c:\\ProgramData\\anaconda3\\lib\\site-packages\\IPython\\core\\interactiveshell.py\", line 3024, in run_cell\n",
      "    result = self._run_cell(\n",
      "  File \"c:\\ProgramData\\anaconda3\\lib\\site-packages\\IPython\\core\\interactiveshell.py\", line 3079, in _run_cell\n",
      "    result = runner(coro)\n",
      "  File \"c:\\ProgramData\\anaconda3\\lib\\site-packages\\IPython\\core\\async_helpers.py\", line 129, in _pseudo_sync_runner\n",
      "    coro.send(None)\n",
      "  File \"c:\\ProgramData\\anaconda3\\lib\\site-packages\\IPython\\core\\interactiveshell.py\", line 3284, in run_cell_async\n",
      "    has_raised = await self.run_ast_nodes(code_ast.body, cell_name,\n",
      "  File \"c:\\ProgramData\\anaconda3\\lib\\site-packages\\IPython\\core\\interactiveshell.py\", line 3466, in run_ast_nodes\n",
      "    if await self.run_code(code, result, async_=asy):\n",
      "  File \"c:\\ProgramData\\anaconda3\\lib\\site-packages\\IPython\\core\\interactiveshell.py\", line 3526, in run_code\n",
      "    exec(code_obj, self.user_global_ns, self.user_ns)\n",
      "  File \"C:\\Users\\chadh\\AppData\\Local\\Temp\\ipykernel_22400\\2626072816.py\", line 1, in <module>\n",
      "    import pandas as pd\n",
      "  File \"c:\\ProgramData\\anaconda3\\lib\\site-packages\\pandas\\__init__.py\", line 49, in <module>\n",
      "    from pandas.core.api import (\n",
      "  File \"c:\\ProgramData\\anaconda3\\lib\\site-packages\\pandas\\core\\api.py\", line 9, in <module>\n",
      "    from pandas.core.dtypes.dtypes import (\n",
      "  File \"c:\\ProgramData\\anaconda3\\lib\\site-packages\\pandas\\core\\dtypes\\dtypes.py\", line 24, in <module>\n",
      "    from pandas._libs import (\n",
      "  File \"c:\\ProgramData\\anaconda3\\lib\\site-packages\\pyarrow\\__init__.py\", line 65, in <module>\n",
      "    import pyarrow.lib as _lib\n"
     ]
    },
    {
     "ename": "AttributeError",
     "evalue": "_ARRAY_API not found",
     "output_type": "error",
     "traceback": [
      "\u001b[1;31m---------------------------------------------------------------------------\u001b[0m",
      "\u001b[1;31mAttributeError\u001b[0m                            Traceback (most recent call last)",
      "\u001b[1;31mAttributeError\u001b[0m: _ARRAY_API not found"
     ]
    },
    {
     "data": {
      "text/html": [
       "<div>\n",
       "<style scoped>\n",
       "    .dataframe tbody tr th:only-of-type {\n",
       "        vertical-align: middle;\n",
       "    }\n",
       "\n",
       "    .dataframe tbody tr th {\n",
       "        vertical-align: top;\n",
       "    }\n",
       "\n",
       "    .dataframe thead th {\n",
       "        text-align: right;\n",
       "    }\n",
       "</style>\n",
       "<table border=\"1\" class=\"dataframe\">\n",
       "  <thead>\n",
       "    <tr style=\"text-align: right;\">\n",
       "      <th></th>\n",
       "      <th>Pregnancies</th>\n",
       "      <th>Glucose</th>\n",
       "      <th>BloodPressure</th>\n",
       "      <th>SkinThickness</th>\n",
       "      <th>Insulin</th>\n",
       "      <th>BMI</th>\n",
       "      <th>DiabetesPedigreeFunction</th>\n",
       "      <th>Age</th>\n",
       "      <th>Outcome</th>\n",
       "    </tr>\n",
       "  </thead>\n",
       "  <tbody>\n",
       "    <tr>\n",
       "      <th>0</th>\n",
       "      <td>6</td>\n",
       "      <td>148</td>\n",
       "      <td>72</td>\n",
       "      <td>35</td>\n",
       "      <td>0</td>\n",
       "      <td>33.6</td>\n",
       "      <td>0.627</td>\n",
       "      <td>50</td>\n",
       "      <td>1</td>\n",
       "    </tr>\n",
       "    <tr>\n",
       "      <th>1</th>\n",
       "      <td>1</td>\n",
       "      <td>85</td>\n",
       "      <td>66</td>\n",
       "      <td>29</td>\n",
       "      <td>0</td>\n",
       "      <td>26.6</td>\n",
       "      <td>0.351</td>\n",
       "      <td>31</td>\n",
       "      <td>0</td>\n",
       "    </tr>\n",
       "    <tr>\n",
       "      <th>2</th>\n",
       "      <td>8</td>\n",
       "      <td>183</td>\n",
       "      <td>64</td>\n",
       "      <td>0</td>\n",
       "      <td>0</td>\n",
       "      <td>23.3</td>\n",
       "      <td>0.672</td>\n",
       "      <td>32</td>\n",
       "      <td>1</td>\n",
       "    </tr>\n",
       "    <tr>\n",
       "      <th>3</th>\n",
       "      <td>1</td>\n",
       "      <td>89</td>\n",
       "      <td>66</td>\n",
       "      <td>23</td>\n",
       "      <td>94</td>\n",
       "      <td>28.1</td>\n",
       "      <td>0.167</td>\n",
       "      <td>21</td>\n",
       "      <td>0</td>\n",
       "    </tr>\n",
       "    <tr>\n",
       "      <th>4</th>\n",
       "      <td>0</td>\n",
       "      <td>137</td>\n",
       "      <td>40</td>\n",
       "      <td>35</td>\n",
       "      <td>168</td>\n",
       "      <td>43.1</td>\n",
       "      <td>2.288</td>\n",
       "      <td>33</td>\n",
       "      <td>1</td>\n",
       "    </tr>\n",
       "  </tbody>\n",
       "</table>\n",
       "</div>"
      ],
      "text/plain": [
       "   Pregnancies  Glucose  BloodPressure  SkinThickness  Insulin   BMI  \\\n",
       "0            6      148             72             35        0  33.6   \n",
       "1            1       85             66             29        0  26.6   \n",
       "2            8      183             64              0        0  23.3   \n",
       "3            1       89             66             23       94  28.1   \n",
       "4            0      137             40             35      168  43.1   \n",
       "\n",
       "   DiabetesPedigreeFunction  Age  Outcome  \n",
       "0                     0.627   50        1  \n",
       "1                     0.351   31        0  \n",
       "2                     0.672   32        1  \n",
       "3                     0.167   21        0  \n",
       "4                     2.288   33        1  "
      ]
     },
     "execution_count": 1,
     "metadata": {},
     "output_type": "execute_result"
    }
   ],
   "source": [
    "\n",
    "import pandas as pd\n",
    "from pandas import DataFrame\n",
    "df=pd.read_csv('diabetes_dataset.csv')\n",
    "#affichage de 5 premiers lignes\n",
    "df.head()\n",
    "\n"
   ]
  },
  {
   "cell_type": "code",
   "execution_count": 2,
   "metadata": {
    "colab": {
     "base_uri": "https://localhost:8080/"
    },
    "executionInfo": {
     "elapsed": 15,
     "status": "ok",
     "timestamp": 1732728799577,
     "user": {
      "displayName": "ouederni chadha",
      "userId": "02885416340215418691"
     },
     "user_tz": -60
    },
    "id": "nTzMTvK_-tfx",
    "outputId": "c91388b7-11e0-4501-f421-b95efac903ac"
   },
   "outputs": [
    {
     "name": "stdout",
     "output_type": "stream",
     "text": [
      "<class 'pandas.core.frame.DataFrame'>\n",
      "RangeIndex: 768 entries, 0 to 767\n",
      "Data columns (total 9 columns):\n",
      " #   Column                    Non-Null Count  Dtype  \n",
      "---  ------                    --------------  -----  \n",
      " 0   Pregnancies               768 non-null    int64  \n",
      " 1   Glucose                   768 non-null    int64  \n",
      " 2   BloodPressure             768 non-null    int64  \n",
      " 3   SkinThickness             768 non-null    int64  \n",
      " 4   Insulin                   768 non-null    int64  \n",
      " 5   BMI                       768 non-null    float64\n",
      " 6   DiabetesPedigreeFunction  768 non-null    float64\n",
      " 7   Age                       768 non-null    int64  \n",
      " 8   Outcome                   768 non-null    int64  \n",
      "dtypes: float64(2), int64(7)\n",
      "memory usage: 54.1 KB\n"
     ]
    }
   ],
   "source": [
    "# des infos sur features\n",
    "\n",
    "df.info()\n"
   ]
  },
  {
   "cell_type": "code",
   "execution_count": 3,
   "metadata": {
    "colab": {
     "base_uri": "https://localhost:8080/"
    },
    "executionInfo": {
     "elapsed": 14,
     "status": "ok",
     "timestamp": 1732728799577,
     "user": {
      "displayName": "ouederni chadha",
      "userId": "02885416340215418691"
     },
     "user_tz": -60
    },
    "id": "1BLdP0uqAZTX",
    "outputId": "6f7781bf-86e4-439e-d386-475d4de61fbd"
   },
   "outputs": [
    {
     "name": "stdout",
     "output_type": "stream",
     "text": [
      "       Pregnancies     Glucose  BloodPressure  SkinThickness     Insulin  \\\n",
      "count   768.000000  768.000000     768.000000     768.000000  768.000000   \n",
      "mean      3.845052  120.894531      69.105469      20.536458   79.799479   \n",
      "std       3.369578   31.972618      19.355807      15.952218  115.244002   \n",
      "min       0.000000    0.000000       0.000000       0.000000    0.000000   \n",
      "25%       1.000000   99.000000      62.000000       0.000000    0.000000   \n",
      "50%       3.000000  117.000000      72.000000      23.000000   30.500000   \n",
      "75%       6.000000  140.250000      80.000000      32.000000  127.250000   \n",
      "max      17.000000  199.000000     122.000000      99.000000  846.000000   \n",
      "\n",
      "              BMI  DiabetesPedigreeFunction         Age     Outcome  \n",
      "count  768.000000                768.000000  768.000000  768.000000  \n",
      "mean    31.992578                  0.471876   33.240885    0.348958  \n",
      "std      7.884160                  0.331329   11.760232    0.476951  \n",
      "min      0.000000                  0.078000   21.000000    0.000000  \n",
      "25%     27.300000                  0.243750   24.000000    0.000000  \n",
      "50%     32.000000                  0.372500   29.000000    0.000000  \n",
      "75%     36.600000                  0.626250   41.000000    1.000000  \n",
      "max     67.100000                  2.420000   81.000000    1.000000  \n"
     ]
    }
   ],
   "source": [
    "# Vérification des statistiques descriptives\n",
    "print(df.describe())\n"
   ]
  },
  {
   "cell_type": "code",
   "execution_count": 4,
   "metadata": {
    "colab": {
     "base_uri": "https://localhost:8080/",
     "height": 178
    },
    "executionInfo": {
     "elapsed": 13,
     "status": "ok",
     "timestamp": 1732728799577,
     "user": {
      "displayName": "ouederni chadha",
      "userId": "02885416340215418691"
     },
     "user_tz": -60
    },
    "id": "0Pr4qrC6VMaI",
    "outputId": "7a856f81-8712-4351-fb7b-5ab2c05e7017"
   },
   "outputs": [
    {
     "data": {
      "text/plain": [
       "Outcome\n",
       "0    500\n",
       "1    268\n",
       "Name: count, dtype: int64"
      ]
     },
     "execution_count": 4,
     "metadata": {},
     "output_type": "execute_result"
    }
   ],
   "source": [
    "df['Outcome'].value_counts()"
   ]
  },
  {
   "cell_type": "code",
   "execution_count": 5,
   "metadata": {
    "colab": {
     "base_uri": "https://localhost:8080/"
    },
    "executionInfo": {
     "elapsed": 12,
     "status": "ok",
     "timestamp": 1732728799577,
     "user": {
      "displayName": "ouederni chadha",
      "userId": "02885416340215418691"
     },
     "user_tz": -60
    },
    "id": "xvpz2OFRJBcB",
    "outputId": "076b8bbe-3a96-4243-deb0-fecc455b8030"
   },
   "outputs": [
    {
     "name": "stdout",
     "output_type": "stream",
     "text": [
      "Pregnancies                 0\n",
      "Glucose                     0\n",
      "BloodPressure               0\n",
      "SkinThickness               0\n",
      "Insulin                     0\n",
      "BMI                         0\n",
      "DiabetesPedigreeFunction    0\n",
      "Age                         0\n",
      "Outcome                     0\n",
      "dtype: int64\n"
     ]
    }
   ],
   "source": [
    "#affichage  les valeurs manquantes\n",
    "missing_values2 = df.isnull().sum()\n",
    "\n",
    "print(missing_values2)\n"
   ]
  },
  {
   "cell_type": "code",
   "execution_count": 6,
   "metadata": {
    "colab": {
     "base_uri": "https://localhost:8080/"
    },
    "executionInfo": {
     "elapsed": 12,
     "status": "ok",
     "timestamp": 1732728799577,
     "user": {
      "displayName": "ouederni chadha",
      "userId": "02885416340215418691"
     },
     "user_tz": -60
    },
    "id": "JRjRMqV7QQ2_",
    "outputId": "3a76c832-f42b-4303-8d43-14751a00d8fb"
   },
   "outputs": [
    {
     "name": "stdout",
     "output_type": "stream",
     "text": [
      "Outliers avec Z-score :\n",
      "     Pregnancies  Glucose  BloodPressure  SkinThickness  Insulin   BMI  \\\n",
      "88            15      136             70             32      110  37.1   \n",
      "159           17      163             72             41      114  40.9   \n",
      "298           14      100             78             25      184  36.6   \n",
      "455           14      175             62             30        0  33.6   \n",
      "\n",
      "     DiabetesPedigreeFunction  Age  Outcome   z_score  \n",
      "88                      0.153   43        1  3.310488  \n",
      "159                     0.817   47        1  3.904034  \n",
      "298                     0.412   46        1  3.013715  \n",
      "455                     0.212   38        1  3.013715  \n"
     ]
    }
   ],
   "source": [
    "# gerer les valeurs aberantes\n",
    "df.describe()\n",
    "import pandas as pd\n",
    "import numpy as np\n",
    "#outliers Pregnancies\n",
    "# Calcul du Z-score\n",
    "threshold = 3\n",
    "df['z_score'] = (df['Pregnancies'] - df['Pregnancies'].mean()) / df['Pregnancies'].std()\n",
    "outliers_z_score = df[np.abs(df['z_score']) > threshold]\n",
    "print(\"Outliers avec Z-score :\")\n",
    "print(outliers_z_score)\n",
    "#pas d'outliers\n"
   ]
  },
  {
   "cell_type": "code",
   "execution_count": 7,
   "metadata": {
    "colab": {
     "base_uri": "https://localhost:8080/"
    },
    "executionInfo": {
     "elapsed": 11,
     "status": "ok",
     "timestamp": 1732728799577,
     "user": {
      "displayName": "ouederni chadha",
      "userId": "02885416340215418691"
     },
     "user_tz": -60
    },
    "id": "8rp7tB3eHvO5",
    "outputId": "52fb9322-6b86-4c81-8f76-622b5df9f89e"
   },
   "outputs": [
    {
     "name": "stdout",
     "output_type": "stream",
     "text": [
      "Outliers avec Z-score :\n",
      "     Pregnancies  Glucose  BloodPressure  SkinThickness  Insulin   BMI  \\\n",
      "75             1        0             48             20        0  24.7   \n",
      "182            1        0             74             20       23  27.7   \n",
      "342            1        0             68             35        0  32.0   \n",
      "349            5        0             80             32        0  41.0   \n",
      "502            6        0             68             41        0  39.0   \n",
      "\n",
      "     DiabetesPedigreeFunction  Age  Outcome  z_score  \n",
      "75                      0.140   22        0 -3.78119  \n",
      "182                     0.299   21        0 -3.78119  \n",
      "342                     0.389   22        0 -3.78119  \n",
      "349                     0.346   37        1 -3.78119  \n",
      "502                     0.727   41        1 -3.78119  \n"
     ]
    }
   ],
   "source": [
    "#outliers Glucose\n",
    "# Calcul du Z-score\n",
    "threshold = 3\n",
    "df['z_score'] = (df['Glucose'] - df['Glucose'].mean()) / df['Glucose'].std()\n",
    "outliers_z_score = df[np.abs(df['z_score']) > threshold]\n",
    "print(\"Outliers avec Z-score :\")\n",
    "print(outliers_z_score)\n",
    "mean_by_outcome = df.groupby('Outcome')['Glucose'].transform('mean')\n",
    "df['Glucose'] = np.where(df['z_score'] > threshold, mean_by_outcome, df['Glucose'])\n",
    "\n",
    "df.drop('z_score', axis=1, inplace=True)\n"
   ]
  },
  {
   "cell_type": "code",
   "execution_count": 8,
   "metadata": {
    "colab": {
     "base_uri": "https://localhost:8080/"
    },
    "executionInfo": {
     "elapsed": 10,
     "status": "ok",
     "timestamp": 1732728799577,
     "user": {
      "displayName": "ouederni chadha",
      "userId": "02885416340215418691"
     },
     "user_tz": -60
    },
    "id": "j_MDBw_NHzqN",
    "outputId": "2d2781e0-d365-4abf-aa91-af6b8186c008"
   },
   "outputs": [
    {
     "name": "stdout",
     "output_type": "stream",
     "text": [
      "Outliers avec Z-score :\n",
      "     Pregnancies  Glucose  BloodPressure  SkinThickness  Insulin   BMI  \\\n",
      "7             10    115.0              0              0        0  35.3   \n",
      "15             7    100.0              0              0        0  30.0   \n",
      "49             7    105.0              0              0        0   0.0   \n",
      "60             2     84.0              0              0        0   0.0   \n",
      "78             0    131.0              0              0        0  43.2   \n",
      "81             2     74.0              0              0        0   0.0   \n",
      "172            2     87.0              0             23        0  28.9   \n",
      "193           11    135.0              0              0        0  52.3   \n",
      "222            7    119.0              0              0        0  25.2   \n",
      "261            3    141.0              0              0        0  30.0   \n",
      "266            0    138.0              0              0        0  36.3   \n",
      "269            2    146.0              0              0        0  27.5   \n",
      "300            0    167.0              0              0        0  32.3   \n",
      "332            1    180.0              0              0        0  43.3   \n",
      "336            0    117.0              0              0        0  33.8   \n",
      "347            3    116.0              0              0        0  23.5   \n",
      "357           13    129.0              0             30        0  39.9   \n",
      "426            0     94.0              0              0        0   0.0   \n",
      "430            2     99.0              0              0        0  22.2   \n",
      "435            0    141.0              0              0        0  42.4   \n",
      "453            2    119.0              0              0        0  19.6   \n",
      "468            8    120.0              0              0        0  30.0   \n",
      "484            0    145.0              0              0        0  44.2   \n",
      "494            3     80.0              0              0        0   0.0   \n",
      "522            6    114.0              0              0        0   0.0   \n",
      "533            6     91.0              0              0        0  29.8   \n",
      "535            4    132.0              0              0        0  32.9   \n",
      "589            0     73.0              0              0        0  21.1   \n",
      "601            6     96.0              0              0        0  23.7   \n",
      "604            4    183.0              0              0        0  28.4   \n",
      "619            0    119.0              0              0        0  32.4   \n",
      "643            4     90.0              0              0        0  28.0   \n",
      "697            0     99.0              0              0        0  25.0   \n",
      "703            2    129.0              0              0        0  38.5   \n",
      "706           10    115.0              0              0        0   0.0   \n",
      "\n",
      "     DiabetesPedigreeFunction  Age  Outcome   z_score  \n",
      "7                       0.134   29        0 -3.570271  \n",
      "15                      0.484   32        1 -3.570271  \n",
      "49                      0.305   24        0 -3.570271  \n",
      "60                      0.304   21        0 -3.570271  \n",
      "78                      0.270   26        1 -3.570271  \n",
      "81                      0.102   22        0 -3.570271  \n",
      "172                     0.773   25        0 -3.570271  \n",
      "193                     0.578   40        1 -3.570271  \n",
      "222                     0.209   37        0 -3.570271  \n",
      "261                     0.761   27        1 -3.570271  \n",
      "266                     0.933   25        1 -3.570271  \n",
      "269                     0.240   28        1 -3.570271  \n",
      "300                     0.839   30        1 -3.570271  \n",
      "332                     0.282   41        1 -3.570271  \n",
      "336                     0.932   44        0 -3.570271  \n",
      "347                     0.187   23        0 -3.570271  \n",
      "357                     0.569   44        1 -3.570271  \n",
      "426                     0.256   25        0 -3.570271  \n",
      "430                     0.108   23        0 -3.570271  \n",
      "435                     0.205   29        1 -3.570271  \n",
      "453                     0.832   72        0 -3.570271  \n",
      "468                     0.183   38        1 -3.570271  \n",
      "484                     0.630   31        1 -3.570271  \n",
      "494                     0.174   22        0 -3.570271  \n",
      "522                     0.189   26        0 -3.570271  \n",
      "533                     0.501   31        0 -3.570271  \n",
      "535                     0.302   23        1 -3.570271  \n",
      "589                     0.342   25        0 -3.570271  \n",
      "601                     0.190   28        0 -3.570271  \n",
      "604                     0.212   36        1 -3.570271  \n",
      "619                     0.141   24        1 -3.570271  \n",
      "643                     0.610   31        0 -3.570271  \n",
      "697                     0.253   22        0 -3.570271  \n",
      "703                     0.304   41        0 -3.570271  \n",
      "706                     0.261   30        1 -3.570271  \n"
     ]
    }
   ],
   "source": [
    "#outliers BloodPressure\n",
    "# Calcul du Z-score\n",
    "threshold = 3\n",
    "df['z_score'] = (df['BloodPressure'] - df['BloodPressure'].mean()) / df['BloodPressure'].std()\n",
    "outliers_z_score = df[np.abs(df['z_score']) > threshold]\n",
    "print(\"Outliers avec Z-score :\")\n",
    "print(outliers_z_score)\n",
    "#pas d'outliers\n"
   ]
  },
  {
   "cell_type": "code",
   "execution_count": 9,
   "metadata": {
    "colab": {
     "base_uri": "https://localhost:8080/"
    },
    "executionInfo": {
     "elapsed": 10,
     "status": "ok",
     "timestamp": 1732728799577,
     "user": {
      "displayName": "ouederni chadha",
      "userId": "02885416340215418691"
     },
     "user_tz": -60
    },
    "id": "dxogUfs2KIbk",
    "outputId": "9e8ad7c2-d510-4c62-fe7f-ebf1fc4d8521"
   },
   "outputs": [
    {
     "name": "stdout",
     "output_type": "stream",
     "text": [
      "Outliers avec Z-score :\n",
      "     Pregnancies  Glucose  BloodPressure  SkinThickness  Insulin   BMI  \\\n",
      "579            2    197.0             70             99        0  34.7   \n",
      "\n",
      "     DiabetesPedigreeFunction  Age  Outcome  z_score  \n",
      "579                     0.575   62        1  4.91866  \n"
     ]
    }
   ],
   "source": [
    "#outliers SkinThickness\n",
    "# Calcul du Z-score\n",
    "threshold = 3\n",
    "df['z_score'] = (df['SkinThickness'] - df['SkinThickness'].mean()) / df['SkinThickness'].std()\n",
    "outliers_z_score = df[np.abs(df['z_score']) > threshold]\n",
    "print(\"Outliers avec Z-score :\")\n",
    "print(outliers_z_score)\n",
    "mean_by_outcome = df.groupby('Outcome')['SkinThickness'].transform('mean')\n",
    "df['BloodPressure'] = np.where(df['z_score'] > threshold, mean_by_outcome, df['SkinThickness'])\n",
    "\n",
    "df.drop('z_score', axis=1, inplace=True)\n"
   ]
  },
  {
   "cell_type": "code",
   "execution_count": 10,
   "metadata": {
    "colab": {
     "base_uri": "https://localhost:8080/"
    },
    "executionInfo": {
     "elapsed": 8,
     "status": "ok",
     "timestamp": 1732728799577,
     "user": {
      "displayName": "ouederni chadha",
      "userId": "02885416340215418691"
     },
     "user_tz": -60
    },
    "id": "_7_GAS-kKb2M",
    "outputId": "46224b62-6f58-4b6e-dd49-f3fe833b803d"
   },
   "outputs": [
    {
     "name": "stdout",
     "output_type": "stream",
     "text": [
      "Outliers avec Z-score :\n",
      "     Pregnancies  Glucose  BloodPressure  SkinThickness  Insulin   BMI  \\\n",
      "8              2    197.0           45.0             45      543  30.5   \n",
      "13             1    189.0           23.0             23      846  30.1   \n",
      "111            8    155.0           26.0             26      495  34.0   \n",
      "153            1    153.0           42.0             42      485  40.6   \n",
      "186            8    181.0           36.0             36      495  30.1   \n",
      "220            0    177.0           29.0             29      478  34.6   \n",
      "228            4    197.0           39.0             39      744  36.7   \n",
      "247            0    165.0           33.0             33      680  52.3   \n",
      "286            5    155.0           44.0             44      545  38.7   \n",
      "370            3    173.0           48.0             48      465  38.4   \n",
      "409            1    172.0           49.0             49      579  42.4   \n",
      "415            3    173.0           33.0             33      474  35.7   \n",
      "486            1    139.0           41.0             41      480  40.7   \n",
      "584            8    124.0           24.0             24      600  28.7   \n",
      "645            2    157.0           35.0             35      440  39.4   \n",
      "655            2    155.0           27.0             27      540  38.7   \n",
      "695            7    142.0           24.0             24      480  30.4   \n",
      "753            0    181.0           44.0             44      510  43.3   \n",
      "\n",
      "     DiabetesPedigreeFunction  Age  Outcome   z_score  \n",
      "8                       0.158   53        1  4.019303  \n",
      "13                      0.398   59        1  6.648507  \n",
      "111                     0.543   46        1  3.602795  \n",
      "153                     0.687   23        0  3.516023  \n",
      "186                     0.615   60        1  3.602795  \n",
      "220                     1.072   21        1  3.455282  \n",
      "228                     2.329   31        0  5.763428  \n",
      "247                     0.427   23        0  5.208085  \n",
      "286                     0.619   34        0  4.036657  \n",
      "370                     2.137   25        1  3.342478  \n",
      "409                     0.702   28        1  4.331683  \n",
      "415                     0.258   22        1  3.420573  \n",
      "486                     0.536   21        0  3.472636  \n",
      "584                     0.687   52        1  4.513905  \n",
      "645                     0.134   30        0  3.125547  \n",
      "655                     0.240   25        1  3.993271  \n",
      "695                     0.128   43        1  3.472636  \n",
      "753                     0.222   26        1  3.732954  \n"
     ]
    }
   ],
   "source": [
    "#outliers Insulin\n",
    "# Calcul du Z-score\n",
    "threshold = 3\n",
    "df['z_score'] = (df['Insulin'] - df['Insulin'].mean()) / df['Insulin'].std()\n",
    "outliers_z_score = df[np.abs(df['z_score']) > threshold]\n",
    "print(\"Outliers avec Z-score :\")\n",
    "print(outliers_z_score)\n",
    "mean_by_outcome = df.groupby('Outcome')['Insulin'].transform('mean')\n",
    "df['Insulin'] = np.where(df['z_score'] > threshold,mean_by_outcome, df['Insulin'])\n",
    "\n",
    "\n",
    "df.drop('z_score', axis=1, inplace=True)"
   ]
  },
  {
   "cell_type": "code",
   "execution_count": 11,
   "metadata": {
    "colab": {
     "base_uri": "https://localhost:8080/"
    },
    "executionInfo": {
     "elapsed": 8,
     "status": "ok",
     "timestamp": 1732728799577,
     "user": {
      "displayName": "ouederni chadha",
      "userId": "02885416340215418691"
     },
     "user_tz": -60
    },
    "id": "QYyem3c6KsgX",
    "outputId": "94490a70-95ac-4890-ddea-d8e9ce28f5d7"
   },
   "outputs": [
    {
     "name": "stdout",
     "output_type": "stream",
     "text": [
      "Outliers avec Z-score :\n",
      "     Pregnancies  Glucose  BloodPressure  SkinThickness  Insulin   BMI  \\\n",
      "9              8    125.0            0.0              0      0.0   0.0   \n",
      "49             7    105.0            0.0              0      0.0   0.0   \n",
      "60             2     84.0            0.0              0      0.0   0.0   \n",
      "81             2     74.0            0.0              0      0.0   0.0   \n",
      "145            0    102.0           23.0             23      0.0   0.0   \n",
      "177            0    129.0           46.0             46    130.0  67.1   \n",
      "371            0    118.0           23.0             23     89.0   0.0   \n",
      "426            0     94.0            0.0              0      0.0   0.0   \n",
      "445            0    180.0           63.0             63     14.0  59.4   \n",
      "494            3     80.0            0.0              0      0.0   0.0   \n",
      "522            6    114.0            0.0              0      0.0   0.0   \n",
      "673            3    123.0           35.0             35    240.0  57.3   \n",
      "684            5    136.0            0.0              0      0.0   0.0   \n",
      "706           10    115.0            0.0              0      0.0   0.0   \n",
      "\n",
      "     DiabetesPedigreeFunction  Age  Outcome   z_score  \n",
      "9                       0.232   54        1 -4.057829  \n",
      "49                      0.305   24        0 -4.057829  \n",
      "60                      0.304   21        0 -4.057829  \n",
      "81                      0.102   22        0 -4.057829  \n",
      "145                     0.572   21        0 -4.057829  \n",
      "177                     0.319   26        1  4.452906  \n",
      "371                     1.731   21        0 -4.057829  \n",
      "426                     0.256   25        0 -4.057829  \n",
      "445                     2.420   25        1  3.476264  \n",
      "494                     0.174   22        0 -4.057829  \n",
      "522                     0.189   26        0 -4.057829  \n",
      "673                     0.880   22        0  3.209907  \n",
      "684                     0.640   69        0 -4.057829  \n",
      "706                     0.261   30        1 -4.057829  \n"
     ]
    }
   ],
   "source": [
    "#outliers BMI\n",
    "# Calcul du Z-score\n",
    "threshold = 3\n",
    "df['z_score'] = (df['BMI'] - df['BMI'].mean()) / df['BMI'].std()\n",
    "outliers_z_score = df[np.abs(df['z_score']) > threshold]\n",
    "print(\"Outliers avec Z-score :\")\n",
    "print(outliers_z_score)\n",
    "mean_by_outcome = df.groupby('Outcome')['BMI'].transform('mean')\n",
    "df['BMI'] = np.where(df['z_score'] > threshold, mean_by_outcome, df['BMI'])\n",
    "\n",
    "df.drop('z_score', axis=1, inplace=True)"
   ]
  },
  {
   "cell_type": "code",
   "execution_count": 12,
   "metadata": {
    "colab": {
     "base_uri": "https://localhost:8080/"
    },
    "executionInfo": {
     "elapsed": 345,
     "status": "ok",
     "timestamp": 1732728799915,
     "user": {
      "displayName": "ouederni chadha",
      "userId": "02885416340215418691"
     },
     "user_tz": -60
    },
    "id": "Vt4BP1IWK-MI",
    "outputId": "91d958cc-ed4c-473f-bddf-1ea79a89ba7e"
   },
   "outputs": [
    {
     "name": "stdout",
     "output_type": "stream",
     "text": [
      "Outliers avec Z-score :\n",
      "     Pregnancies  Glucose  BloodPressure  SkinThickness     Insulin  \\\n",
      "4              0    137.0           35.0             35  168.000000   \n",
      "45             0    180.0           39.0             39    0.000000   \n",
      "58             0    146.0            0.0              0    0.000000   \n",
      "228            4    197.0           39.0             39   68.792000   \n",
      "330            8    118.0           19.0             19    0.000000   \n",
      "370            3    173.0           48.0             48  100.335821   \n",
      "371            0    118.0           23.0             23   89.000000   \n",
      "395            2    127.0           24.0             24  275.000000   \n",
      "445            0    180.0           63.0             63   14.000000   \n",
      "593            2     82.0           22.0             22  115.000000   \n",
      "621            2     92.0           20.0             20    0.000000   \n",
      "\n",
      "           BMI  DiabetesPedigreeFunction  Age  Outcome   z_score  \n",
      "4    43.100000                     2.288   33        1  5.481337  \n",
      "45   42.000000                     1.893   25        1  4.289167  \n",
      "58   40.500000                     1.781   44        0  3.951134  \n",
      "228  36.700000                     2.329   31        0  5.605081  \n",
      "330  23.100000                     1.476   46        0  3.030598  \n",
      "370  38.400000                     2.137   25        1  5.025596  \n",
      "371   0.000000                     1.731   21        0  3.800226  \n",
      "395  27.700000                     1.600   25        0  3.404849  \n",
      "445  35.142537                     2.420   25        1  5.879733  \n",
      "593  28.500000                     1.699   25        0  3.703646  \n",
      "621  24.200000                     1.698   28        0  3.700627  \n",
      "DataFrame après le remplacement des outliers :\n",
      "     Outcome  DiabetesPedigreeFunction\n",
      "0          1                    0.6270\n",
      "1          0                    0.3510\n",
      "2          1                    0.6720\n",
      "3          0                    0.1670\n",
      "4          1                    0.5505\n",
      "..       ...                       ...\n",
      "763        0                    0.1710\n",
      "764        0                    0.3400\n",
      "765        0                    0.2450\n",
      "766        1                    0.3490\n",
      "767        0                    0.3150\n",
      "\n",
      "[768 rows x 2 columns]\n"
     ]
    }
   ],
   "source": [
    "import pandas as pd\n",
    "import numpy as np\n",
    "\n",
    "# Calcul du Z-score pour détecter les outliers\n",
    "threshold = 3\n",
    "df['z_score'] = (df['DiabetesPedigreeFunction'] - df['DiabetesPedigreeFunction'].mean()) / df['DiabetesPedigreeFunction'].std()\n",
    "\n",
    "# Identifier les outliers\n",
    "outliers_z_score = df[np.abs(df['z_score']) > threshold]\n",
    "print(\"Outliers avec Z-score :\")\n",
    "print(outliers_z_score)\n",
    "\n",
    "# Calcul de la moyenne de 'DiabetesPedigreeFunction' pour chaque classe 'Outcome'\n",
    "mean_by_outcome = df.groupby('Outcome')['DiabetesPedigreeFunction'].transform('mean')\n",
    "\n",
    "# Remplacer les outliers par la moyenne de leur classe\n",
    "df['DiabetesPedigreeFunction'] = np.where(np.abs(df['z_score']) > threshold, mean_by_outcome, df['DiabetesPedigreeFunction'])\n",
    "\n",
    "# Vérification du remplacement\n",
    "print(\"DataFrame après le remplacement des outliers :\")\n",
    "print(df[['Outcome', 'DiabetesPedigreeFunction']])\n"
   ]
  },
  {
   "cell_type": "code",
   "execution_count": 13,
   "metadata": {
    "colab": {
     "base_uri": "https://localhost:8080/"
    },
    "executionInfo": {
     "elapsed": 4,
     "status": "ok",
     "timestamp": 1732728799915,
     "user": {
      "displayName": "ouederni chadha",
      "userId": "02885416340215418691"
     },
     "user_tz": -60
    },
    "id": "7YcPe4FWOEqT",
    "outputId": "65e8448d-6f9e-459f-8dc5-2e4db830b3d6"
   },
   "outputs": [
    {
     "name": "stdout",
     "output_type": "stream",
     "text": [
      "Outliers avec Z-score :\n",
      "     Pregnancies  Glucose  BloodPressure  SkinThickness  Insulin   BMI  \\\n",
      "123            5    132.0            0.0              0      0.0  26.8   \n",
      "453            2    119.0            0.0              0      0.0  19.6   \n",
      "459            9    134.0           33.0             33     60.0  25.9   \n",
      "666            4    145.0           18.0             18      0.0  32.5   \n",
      "684            5    136.0            0.0              0      0.0   0.0   \n",
      "\n",
      "     DiabetesPedigreeFunction  Age  Outcome   z_score  \n",
      "123                     0.186   69        0  3.040681  \n",
      "453                     0.832   72        0  3.295778  \n",
      "459                     0.460   81        0  4.061069  \n",
      "666                     0.235   70        1  3.125714  \n",
      "684                     0.640   69        0  3.040681  \n"
     ]
    }
   ],
   "source": [
    "#outliers Age\n",
    "# Calcul du Z-score\n",
    "threshold = 3\n",
    "df['z_score'] = (df['Age'] - df['Age'].mean()) / df['Age'].std()\n",
    "outliers_z_score = df[np.abs(df['z_score']) > threshold]\n",
    "print(\"Outliers avec Z-score :\")\n",
    "print(outliers_z_score)\n",
    "mean_by_outcome = df.groupby('Outcome')['Age'].transform('mean')\n",
    "df['Age'] = np.where(df['z_score'] > threshold, mean_by_outcome, df['Age'])\n",
    "\n",
    "df.drop('z_score', axis=1, inplace=True)"
   ]
  },
  {
   "cell_type": "code",
   "execution_count": 14,
   "metadata": {
    "colab": {
     "base_uri": "https://localhost:8080/",
     "height": 332
    },
    "executionInfo": {
     "elapsed": 3,
     "status": "ok",
     "timestamp": 1732728799915,
     "user": {
      "displayName": "ouederni chadha",
      "userId": "02885416340215418691"
     },
     "user_tz": -60
    },
    "id": "pcLSGttJOW8r",
    "outputId": "6acfeed6-4fc3-4e01-ec89-aabc73a9ccbd"
   },
   "outputs": [
    {
     "data": {
      "text/html": [
       "<div>\n",
       "<style scoped>\n",
       "    .dataframe tbody tr th:only-of-type {\n",
       "        vertical-align: middle;\n",
       "    }\n",
       "\n",
       "    .dataframe tbody tr th {\n",
       "        vertical-align: top;\n",
       "    }\n",
       "\n",
       "    .dataframe thead th {\n",
       "        text-align: right;\n",
       "    }\n",
       "</style>\n",
       "<table border=\"1\" class=\"dataframe\">\n",
       "  <thead>\n",
       "    <tr style=\"text-align: right;\">\n",
       "      <th></th>\n",
       "      <th>Pregnancies</th>\n",
       "      <th>Glucose</th>\n",
       "      <th>BloodPressure</th>\n",
       "      <th>SkinThickness</th>\n",
       "      <th>Insulin</th>\n",
       "      <th>BMI</th>\n",
       "      <th>DiabetesPedigreeFunction</th>\n",
       "      <th>Age</th>\n",
       "      <th>Outcome</th>\n",
       "    </tr>\n",
       "  </thead>\n",
       "  <tbody>\n",
       "    <tr>\n",
       "      <th>Pregnancies</th>\n",
       "      <td>1.000000</td>\n",
       "      <td>0.129459</td>\n",
       "      <td>-0.079498</td>\n",
       "      <td>-0.081672</td>\n",
       "      <td>-0.065735</td>\n",
       "      <td>0.030250</td>\n",
       "      <td>0.005624</td>\n",
       "      <td>0.555918</td>\n",
       "      <td>0.221898</td>\n",
       "    </tr>\n",
       "    <tr>\n",
       "      <th>Glucose</th>\n",
       "      <td>0.129459</td>\n",
       "      <td>1.000000</td>\n",
       "      <td>0.043065</td>\n",
       "      <td>0.057328</td>\n",
       "      <td>0.255976</td>\n",
       "      <td>0.218076</td>\n",
       "      <td>0.105363</td>\n",
       "      <td>0.265150</td>\n",
       "      <td>0.466581</td>\n",
       "    </tr>\n",
       "    <tr>\n",
       "      <th>BloodPressure</th>\n",
       "      <td>-0.079498</td>\n",
       "      <td>0.043065</td>\n",
       "      <td>1.000000</td>\n",
       "      <td>0.984780</td>\n",
       "      <td>0.470967</td>\n",
       "      <td>0.383760</td>\n",
       "      <td>0.163069</td>\n",
       "      <td>-0.123024</td>\n",
       "      <td>0.067250</td>\n",
       "    </tr>\n",
       "    <tr>\n",
       "      <th>SkinThickness</th>\n",
       "      <td>-0.081672</td>\n",
       "      <td>0.057328</td>\n",
       "      <td>0.984780</td>\n",
       "      <td>1.000000</td>\n",
       "      <td>0.458549</td>\n",
       "      <td>0.379961</td>\n",
       "      <td>0.163253</td>\n",
       "      <td>-0.104975</td>\n",
       "      <td>0.074752</td>\n",
       "    </tr>\n",
       "    <tr>\n",
       "      <th>Insulin</th>\n",
       "      <td>-0.065735</td>\n",
       "      <td>0.255976</td>\n",
       "      <td>0.470967</td>\n",
       "      <td>0.458549</td>\n",
       "      <td>1.000000</td>\n",
       "      <td>0.175732</td>\n",
       "      <td>0.185749</td>\n",
       "      <td>-0.066501</td>\n",
       "      <td>0.095808</td>\n",
       "    </tr>\n",
       "    <tr>\n",
       "      <th>BMI</th>\n",
       "      <td>0.030250</td>\n",
       "      <td>0.218076</td>\n",
       "      <td>0.383760</td>\n",
       "      <td>0.379961</td>\n",
       "      <td>0.175732</td>\n",
       "      <td>1.000000</td>\n",
       "      <td>0.138514</td>\n",
       "      <td>0.082442</td>\n",
       "      <td>0.291360</td>\n",
       "    </tr>\n",
       "    <tr>\n",
       "      <th>DiabetesPedigreeFunction</th>\n",
       "      <td>0.005624</td>\n",
       "      <td>0.105363</td>\n",
       "      <td>0.163069</td>\n",
       "      <td>0.163253</td>\n",
       "      <td>0.185749</td>\n",
       "      <td>0.138514</td>\n",
       "      <td>1.000000</td>\n",
       "      <td>0.063130</td>\n",
       "      <td>0.196112</td>\n",
       "    </tr>\n",
       "    <tr>\n",
       "      <th>Age</th>\n",
       "      <td>0.555918</td>\n",
       "      <td>0.265150</td>\n",
       "      <td>-0.123024</td>\n",
       "      <td>-0.104975</td>\n",
       "      <td>-0.066501</td>\n",
       "      <td>0.082442</td>\n",
       "      <td>0.063130</td>\n",
       "      <td>1.000000</td>\n",
       "      <td>0.256351</td>\n",
       "    </tr>\n",
       "    <tr>\n",
       "      <th>Outcome</th>\n",
       "      <td>0.221898</td>\n",
       "      <td>0.466581</td>\n",
       "      <td>0.067250</td>\n",
       "      <td>0.074752</td>\n",
       "      <td>0.095808</td>\n",
       "      <td>0.291360</td>\n",
       "      <td>0.196112</td>\n",
       "      <td>0.256351</td>\n",
       "      <td>1.000000</td>\n",
       "    </tr>\n",
       "  </tbody>\n",
       "</table>\n",
       "</div>"
      ],
      "text/plain": [
       "                          Pregnancies   Glucose  BloodPressure  SkinThickness  \\\n",
       "Pregnancies                  1.000000  0.129459      -0.079498      -0.081672   \n",
       "Glucose                      0.129459  1.000000       0.043065       0.057328   \n",
       "BloodPressure               -0.079498  0.043065       1.000000       0.984780   \n",
       "SkinThickness               -0.081672  0.057328       0.984780       1.000000   \n",
       "Insulin                     -0.065735  0.255976       0.470967       0.458549   \n",
       "BMI                          0.030250  0.218076       0.383760       0.379961   \n",
       "DiabetesPedigreeFunction     0.005624  0.105363       0.163069       0.163253   \n",
       "Age                          0.555918  0.265150      -0.123024      -0.104975   \n",
       "Outcome                      0.221898  0.466581       0.067250       0.074752   \n",
       "\n",
       "                           Insulin       BMI  DiabetesPedigreeFunction  \\\n",
       "Pregnancies              -0.065735  0.030250                  0.005624   \n",
       "Glucose                   0.255976  0.218076                  0.105363   \n",
       "BloodPressure             0.470967  0.383760                  0.163069   \n",
       "SkinThickness             0.458549  0.379961                  0.163253   \n",
       "Insulin                   1.000000  0.175732                  0.185749   \n",
       "BMI                       0.175732  1.000000                  0.138514   \n",
       "DiabetesPedigreeFunction  0.185749  0.138514                  1.000000   \n",
       "Age                      -0.066501  0.082442                  0.063130   \n",
       "Outcome                   0.095808  0.291360                  0.196112   \n",
       "\n",
       "                               Age   Outcome  \n",
       "Pregnancies               0.555918  0.221898  \n",
       "Glucose                   0.265150  0.466581  \n",
       "BloodPressure            -0.123024  0.067250  \n",
       "SkinThickness            -0.104975  0.074752  \n",
       "Insulin                  -0.066501  0.095808  \n",
       "BMI                       0.082442  0.291360  \n",
       "DiabetesPedigreeFunction  0.063130  0.196112  \n",
       "Age                       1.000000  0.256351  \n",
       "Outcome                   0.256351  1.000000  "
      ]
     },
     "execution_count": 14,
     "metadata": {},
     "output_type": "execute_result"
    }
   ],
   "source": [
    "#correlation\n",
    "df.iloc[:,0:9].corr()\n",
    "#on remarque une forte correlation positive entre BloodPressure et SkinThickness\n",
    "#on remarque une correlation positive moyenne entre  Pregnancies et age , BloodPressure\tet Insulin\n"
   ]
  },
  {
   "cell_type": "code",
   "execution_count": 15,
   "metadata": {
    "colab": {
     "base_uri": "https://localhost:8080/",
     "height": 849
    },
    "executionInfo": {
     "elapsed": 1119,
     "status": "ok",
     "timestamp": 1732728801032,
     "user": {
      "displayName": "ouederni chadha",
      "userId": "02885416340215418691"
     },
     "user_tz": -60
    },
    "id": "yseqNQDfQ3t9",
    "outputId": "a8799ff5-c844-4c7c-a5f6-e4ee6b770775"
   },
   "outputs": [
    {
     "data": {
      "image/png": "[encoded data removed]",
      "text/plain": [
       "<Figure size 1000x800 with 2 Axes>"
      ]
     },
     "metadata": {},
     "output_type": "display_data"
    }
   ],
   "source": [
    "import seaborn as sns\n",
    "import matplotlib.pyplot as plt\n",
    "\n",
    "# Matrice de corrélation\n",
    "plt.figure(figsize=(10, 8))\n",
    "sns.heatmap(df.corr(), annot=True, cmap='coolwarm')\n",
    "plt.show()"
   ]
  },
  {
   "cell_type": "code",
   "execution_count": 16,
   "metadata": {
    "colab": {
     "base_uri": "https://localhost:8080/"
    },
    "executionInfo": {
     "elapsed": 5,
     "status": "ok",
     "timestamp": 1732728801032,
     "user": {
      "displayName": "ouederni chadha",
      "userId": "02885416340215418691"
     },
     "user_tz": -60
    },
    "id": "ALeDwUEFEXyk",
    "outputId": "92c187a7-0cdc-4834-f163-ee978b53b637"
   },
   "outputs": [
    {
     "name": "stdout",
     "output_type": "stream",
     "text": [
      "                   Variable        VIF\n",
      "0               Pregnancies   1.461576\n",
      "1                   Glucose   1.231636\n",
      "2             BloodPressure  34.886823\n",
      "3             SkinThickness  33.891197\n",
      "4                   Insulin   1.423961\n",
      "5                       BMI   1.251531\n",
      "6  DiabetesPedigreeFunction   1.059380\n",
      "7                       Age   1.590168\n"
     ]
    }
   ],
   "source": [
    "# Standardisation des données avant de calculer le VIF\n",
    "x=df[['Pregnancies','Glucose','BloodPressure','SkinThickness','Insulin','BMI','DiabetesPedigreeFunction','Age']]\n",
    "from sklearn.preprocessing import StandardScaler\n",
    "from statsmodels.stats.outliers_influence import variance_inflation_factor\n",
    "scaler = StandardScaler()\n",
    "X_scaled = scaler.fit_transform(x)\n",
    "\n",
    "# Calcul du VIF\n",
    "vif_data = pd.DataFrame()\n",
    "vif_data[\"Variable\"] = x.columns\n",
    "vif_data[\"VIF\"] = [variance_inflation_factor(X_scaled, i) for i in range(X_scaled.shape[1])]\n",
    "\n",
    "print(vif_data)"
   ]
  },
  {
   "cell_type": "code",
   "execution_count": 17,
   "metadata": {
    "executionInfo": {
     "elapsed": 4,
     "status": "ok",
     "timestamp": 1732728801032,
     "user": {
      "displayName": "ouederni chadha",
      "userId": "02885416340215418691"
     },
     "user_tz": -60
    },
    "id": "RuDChRWmDMj9"
   },
   "outputs": [],
   "source": [
    "\n",
    "# suppression de SkinThickness afin de reduire la colliniarité\n",
    "\n",
    "\n",
    "df = df.drop(columns=['SkinThickness'])\n"
   ]
  },
  {
   "cell_type": "code",
   "execution_count": 18,
   "metadata": {
    "colab": {
     "base_uri": "https://localhost:8080/"
    },
    "executionInfo": {
     "elapsed": 273,
     "status": "ok",
     "timestamp": 1732728801301,
     "user": {
      "displayName": "ouederni chadha",
      "userId": "02885416340215418691"
     },
     "user_tz": -60
    },
    "id": "ztt73ldfE37-",
    "outputId": "c4912f14-69b0-496d-b1bd-b501024e5636"
   },
   "outputs": [
    {
     "name": "stdout",
     "output_type": "stream",
     "text": [
      "Logistic Regression: Accuracy = 0.75\n",
      "Decision Tree: Accuracy = 0.75\n",
      "Random Forest: Accuracy = 0.75\n",
      "SVM: Accuracy = 0.74\n",
      "KNN: Accuracy = 0.68\n"
     ]
    }
   ],
   "source": [
    "from sklearn.model_selection import train_test_split, cross_val_score\n",
    "from sklearn.linear_model import LogisticRegression\n",
    "from sklearn.ensemble import RandomForestClassifier\n",
    "from sklearn.tree import DecisionTreeClassifier\n",
    "from sklearn.svm import SVC\n",
    "from sklearn.neighbors import KNeighborsClassifier\n",
    "from sklearn.metrics import accuracy_score\n",
    "\n",
    "# Division des données\n",
    "X = X_scaled\n",
    "y = df['Outcome']\n",
    "X_train, X_test, y_train, y_test = train_test_split(X, y, test_size=0.2, random_state=42)\n",
    "\n",
    "# Liste des modèles\n",
    "models = {\n",
    "    \"Logistic Regression\": LogisticRegression(),\n",
    "    \"Decision Tree\": DecisionTreeClassifier(),\n",
    "    \"Random Forest\": RandomForestClassifier(),\n",
    "    \"SVM\": SVC(),\n",
    "    \"KNN\": KNeighborsClassifier()\n",
    "}\n",
    "\n",
    "# Entraînement et évaluation\n",
    "results = {}\n",
    "for name, model in models.items():\n",
    "    model.fit(X_train, y_train)\n",
    "    y_pred = model.predict(X_test)\n",
    "    accuracy = accuracy_score(y_test, y_pred)\n",
    "    results[name] = accuracy\n",
    "\n",
    "# Affichage des résultats\n",
    "for name, acc in results.items():\n",
    "    print(f\"{name}: Accuracy = {acc:.2f}\")\n",
    "#on choisit logistic regression car combine entre la bonne accuracy et la facilité de deploiement"
   ]
  },
  {
   "cell_type": "code",
   "execution_count": 19,
   "metadata": {
    "colab": {
     "base_uri": "https://localhost:8080/"
    },
    "executionInfo": {
     "elapsed": 4,
     "status": "ok",
     "timestamp": 1732728801301,
     "user": {
      "displayName": "ouederni chadha",
      "userId": "02885416340215418691"
     },
     "user_tz": -60
    },
    "id": "O7vZtxdwJII8",
    "outputId": "71ce2305-a37d-41c9-98ba-c62b7d35b80d"
   },
   "outputs": [
    {
     "name": "stdout",
     "output_type": "stream",
     "text": [
      "Meilleur paramètre C : 0.1\n",
      "Meilleure précision : 0.7605757696921231\n"
     ]
    }
   ],
   "source": [
    "from sklearn.model_selection import GridSearchCV\n",
    "\n",
    "# Paramètres à tester\n",
    "param_grid = {'C': [0.01, 0.1, 1, 10, 50, 100, 200]}\n",
    "\n",
    "# Recherche avec validation croisée\n",
    "grid_search = GridSearchCV(LogisticRegression(penalty='l2',class_weight='balanced', max_iter=1000, random_state=42), param_grid, cv=5, scoring='accuracy')\n",
    "grid_search.fit(X_train, y_train)\n",
    "\n",
    "# Résultats\n",
    "print(\"Meilleur paramètre C :\", grid_search.best_params_['C'])\n",
    "print(\"Meilleure précision :\", grid_search.best_score_)\n"
   ]
  },
  {
   "cell_type": "code",
   "execution_count": 41,
   "metadata": {
    "colab": {
     "base_uri": "https://localhost:8080/"
    },
    "executionInfo": {
     "elapsed": 3,
     "status": "ok",
     "timestamp": 1732728801301,
     "user": {
      "displayName": "ouederni chadha",
      "userId": "02885416340215418691"
     },
     "user_tz": -60
    },
    "id": "xA3NrCXFKnrw",
    "outputId": "5161e420-ecc7-478e-c473-03c13ad51ded"
   },
   "outputs": [
    {
     "name": "stdout",
     "output_type": "stream",
     "text": [
      "Accuracy pour chaque fold : [0.76422764 0.78861789 0.7398374  0.75609756 0.75409836]\n",
      "Accuracy moyenne (cross-validation) : 0.7605757696921231\n"
     ]
    }
   ],
   "source": [
    "from sklearn.linear_model import LogisticRegression\n",
    "\n",
    "# Modèle avec régularisation L2\n",
    "model = LogisticRegression(penalty='l2',class_weight='balanced', C=0.1,max_iter=1000, random_state=42)\n",
    "# 4 - Validation Croisée\n",
    "cv_scores = cross_val_score(model, X_train, y_train, cv=5, scoring='accuracy')\n",
    "print(\"Accuracy pour chaque fold :\", cv_scores)\n",
    "print(\"Accuracy moyenne (cross-validation) :\", cv_scores.mean())\n",
    "model.fit(X_train, y_train)\n",
    "y_proba=model.predict(X_test)"
   ]
  },
  {
   "cell_type": "code",
   "execution_count": 43,
   "metadata": {
    "colab": {
     "base_uri": "https://localhost:8080/"
    },
    "executionInfo": {
     "elapsed": 2,
     "status": "ok",
     "timestamp": 1732728801301,
     "user": {
      "displayName": "ouederni chadha",
      "userId": "02885416340215418691"
     },
     "user_tz": -60
    },
    "id": "XDwH-NI-MvOC",
    "outputId": "273e2502-efc7-4aaf-e05e-a7b36802506b"
   },
   "outputs": [
    {
     "name": "stdout",
     "output_type": "stream",
     "text": [
      "\n",
      "Seuil 0.3:\n",
      "Précision : 0.71\n",
      "Précision (Precision) : 0.58\n",
      "Rappel (Recall) : 0.75\n",
      "Score F1 : 0.65\n",
      "\n",
      "Seuil 0.5:\n",
      "Précision : 0.71\n",
      "Précision (Precision) : 0.58\n",
      "Rappel (Recall) : 0.75\n",
      "Score F1 : 0.65\n",
      "\n",
      "Seuil 0.7:\n",
      "Précision : 0.71\n",
      "Précision (Precision) : 0.58\n",
      "Rappel (Recall) : 0.75\n",
      "Score F1 : 0.65\n"
     ]
    }
   ],
   "source": [
    "# Tester plusieurs seuils\n",
    "from sklearn.metrics import precision_score, recall_score, accuracy_score , f1_score\n",
    "seuils = [0.3, 0.5, 0.7]\n",
    "for seuil in seuils:\n",
    "    y_pred = (y_proba >= seuil).astype(int)\n",
    "    accuracy = accuracy_score(y_test, y_pred)\n",
    "    precision = precision_score(y_test, y_pred)\n",
    "    recall = recall_score(y_test, y_pred)\n",
    "    f1 = f1_score(y_test, y_pred)\n",
    "    print(f\"\\nSeuil {seuil}:\")\n",
    "    print(f\"Précision : {accuracy:.2f}\")\n",
    "    print(f\"Précision (Precision) : {precision:.2f}\")\n",
    "    print(f\"Rappel (Recall) : {recall:.2f}\")\n",
    "    print(f\"Score F1 : {f1:.2f}\")\n",
    "\n"
   ]
  },
  {
   "cell_type": "code",
   "execution_count": 52,
   "metadata": {
    "executionInfo": {
     "elapsed": 286,
     "status": "ok",
     "timestamp": 1732728801585,
     "user": {
      "displayName": "ouederni chadha",
      "userId": "02885416340215418691"
     },
     "user_tz": -60
    },
    "id": "TOOoca4OKld8"
   },
   "outputs": [],
   "source": []
  },
  {
   "cell_type": "code",
   "execution_count": 22,
   "metadata": {
    "colab": {
     "base_uri": "https://localhost:8080/",
     "height": 489
    },
    "executionInfo": {
     "elapsed": 420,
     "status": "ok",
     "timestamp": 1732728802003,
     "user": {
      "displayName": "ouederni chadha",
      "userId": "02885416340215418691"
     },
     "user_tz": -60
    },
    "id": "IRrHNpDqLPXq",
    "outputId": "f48f5bdc-4699-4d8b-f1c9-456f448600d5"
   },
   "outputs": [
    {
     "data": {
      "image/png": "[encoded data removed]",
      "text/plain": [
       "<Figure size 640x480 with 1 Axes>"
      ]
     },
     "metadata": {},
     "output_type": "display_data"
    },
    {
     "name": "stdout",
     "output_type": "stream",
     "text": [
      "Seuil optimal basé sur la courbe ROC : 1.00\n"
     ]
    }
   ],
   "source": [
    "from sklearn.metrics import roc_curve, auc\n",
    "import matplotlib.pyplot as plt\n",
    "\n",
    "# Calcul de la courbe ROC\n",
    "fpr, tpr, thresholds = roc_curve(y_test, y_proba)\n",
    "roc_auc = auc(fpr, tpr)\n",
    "\n",
    "# Affichage de la courbe ROC\n",
    "plt.figure()\n",
    "plt.plot(fpr, tpr, label=f'ROC curve (area = {roc_auc:.2f})')\n",
    "plt.plot([0, 1], [0, 1], 'k--')  # Ligne diagonale\n",
    "plt.xlabel('False Positive Rate')\n",
    "plt.ylabel('True Positive Rate')\n",
    "plt.title('ROC Curve')\n",
    "plt.legend(loc=\"lower right\")\n",
    "plt.show()\n",
    "\n",
    "# Trouver le seuil optimal (par exemple, celui qui maximise TPR - FPR)\n",
    "optimal_idx = np.argmax(tpr - fpr)\n",
    "optimal_threshold = thresholds[optimal_idx]\n",
    "print(f\"Seuil optimal basé sur la courbe ROC : {optimal_threshold:.2f}\")\n",
    "\n"
   ]
  },
  {
   "cell_type": "code",
   "execution_count": 44,
   "metadata": {
    "colab": {
     "base_uri": "https://localhost:8080/"
    },
    "executionInfo": {
     "elapsed": 372,
     "status": "ok",
     "timestamp": 1732728939007,
     "user": {
      "displayName": "ouederni chadha",
      "userId": "02885416340215418691"
     },
     "user_tz": -60
    },
    "id": "VJPMTgcOOgqh",
    "outputId": "fd5de26c-4e1e-4062-e2fb-c3200fd2c3a3"
   },
   "outputs": [
    {
     "name": "stdout",
     "output_type": "stream",
     "text": [
      "Précision avec seuil optimal 1 : 0.71\n",
      "Précision (Precision) : 0.58\n",
      "Rappel (Recall) : 0.75\n",
      "Score F1 : 0.65\n"
     ]
    }
   ],
   "source": [
    "# Appliquer le seuil optimal\n",
    "seuil_optimal = 1\n",
    "y_pred_optimal = (y_proba >= seuil_optimal).astype(int)\n",
    "\n",
    "# Évaluation avec le seuil optimal\n",
    "accuracy = accuracy_score(y_test, y_pred_optimal)\n",
    "precision = precision_score(y_test, y_pred_optimal)\n",
    "recall = recall_score(y_test, y_pred_optimal)\n",
    "f1 = f1_score(y_test, y_pred_optimal)\n",
    "\n",
    "print(f\"Précision avec seuil optimal {seuil_optimal} : {accuracy:.2f}\")\n",
    "print(f\"Précision (Precision) : {precision:.2f}\")\n",
    "print(f\"Rappel (Recall) : {recall:.2f}\")\n",
    "print(f\"Score F1 : {f1:.2f}\")\n"
   ]
  },
  {
   "cell_type": "code",
   "execution_count": 24,
   "metadata": {
    "colab": {
     "base_uri": "https://localhost:8080/"
    },
    "executionInfo": {
     "elapsed": 5,
     "status": "ok",
     "timestamp": 1732728802003,
     "user": {
      "displayName": "ouederni chadha",
      "userId": "02885416340215418691"
     },
     "user_tz": -60
    },
    "id": "A3no-ZPDQS8w",
    "outputId": "7106abc3-734b-41eb-fece-cbea48d8575b"
   },
   "outputs": [
    {
     "name": "stdout",
     "output_type": "stream",
     "text": [
      "Matrice de confusion :\n",
      " [[69 30]\n",
      " [14 41]]\n"
     ]
    }
   ],
   "source": [
    "from sklearn.metrics import confusion_matrix\n",
    "\n",
    "\n",
    "cm = confusion_matrix(y_test, y_pred_optimal)\n",
    "print(\"Matrice de confusion :\\n\", cm)"
   ]
  },
  {
   "cell_type": "code",
   "execution_count": 46,
   "metadata": {
    "colab": {
     "base_uri": "https://localhost:8080/"
    },
    "executionInfo": {
     "elapsed": 3604,
     "status": "ok",
     "timestamp": 1732728888618,
     "user": {
      "displayName": "ouederni chadha",
      "userId": "02885416340215418691"
     },
     "user_tz": -60
    },
    "id": "Kyn9t-61YS4W",
    "outputId": "4b6a7323-79fe-4a80-f2d2-175738a4dd11"
   },
   "outputs": [
    {
     "name": "stdout",
     "output_type": "stream",
     "text": [
      "Defaulting to user installation because normal site-packages is not writeable\n",
      "Requirement already satisfied: flask-ngrok in c:\\users\\chadh\\appdata\\roaming\\python\\python39\\site-packages (0.0.25)\n",
      "Requirement already satisfied: Flask>=0.8 in c:\\users\\chadh\\appdata\\roaming\\python\\python39\\site-packages (from flask-ngrok) (3.1.0)\n",
      "Requirement already satisfied: requests in c:\\programdata\\anaconda3\\lib\\site-packages (from flask-ngrok) (2.32.3)\n",
      "Requirement already satisfied: Werkzeug>=3.1 in c:\\users\\chadh\\appdata\\roaming\\python\\python39\\site-packages (from Flask>=0.8->flask-ngrok) (3.1.3)\n",
      "Requirement already satisfied: Jinja2>=3.1.2 in c:\\programdata\\anaconda3\\lib\\site-packages (from Flask>=0.8->flask-ngrok) (3.1.4)\n",
      "Requirement already satisfied: itsdangerous>=2.2 in c:\\programdata\\anaconda3\\lib\\site-packages (from Flask>=0.8->flask-ngrok) (2.2.0)\n",
      "Requirement already satisfied: click>=8.1.3 in c:\\programdata\\anaconda3\\lib\\site-packages (from Flask>=0.8->flask-ngrok) (8.1.7)\n",
      "Requirement already satisfied: blinker>=1.9 in c:\\users\\chadh\\appdata\\roaming\\python\\python39\\site-packages (from Flask>=0.8->flask-ngrok) (1.9.0)\n",
      "Requirement already satisfied: importlib-metadata>=3.6 in c:\\programdata\\anaconda3\\lib\\site-packages (from Flask>=0.8->flask-ngrok) (8.5.0)\n",
      "Requirement already satisfied: charset-normalizer<4,>=2 in c:\\programdata\\anaconda3\\lib\\site-packages (from requests->flask-ngrok) (3.3.2)\n",
      "Requirement already satisfied: idna<4,>=2.5 in c:\\programdata\\anaconda3\\lib\\site-packages (from requests->flask-ngrok) (3.7)\n",
      "Requirement already satisfied: urllib3<3,>=1.21.1 in c:\\programdata\\anaconda3\\lib\\site-packages (from requests->flask-ngrok) (1.26.19)\n",
      "Requirement already satisfied: certifi>=2017.4.17 in c:\\programdata\\anaconda3\\lib\\site-packages (from requests->flask-ngrok) (2024.12.14)\n",
      "Requirement already satisfied: colorama in c:\\programdata\\anaconda3\\lib\\site-packages (from click>=8.1.3->Flask>=0.8->flask-ngrok) (0.4.6)\n",
      "Requirement already satisfied: zipp>=3.20 in c:\\programdata\\anaconda3\\lib\\site-packages (from importlib-metadata>=3.6->Flask>=0.8->flask-ngrok) (3.21.0)\n",
      "Requirement already satisfied: MarkupSafe>=2.0 in c:\\programdata\\anaconda3\\lib\\site-packages (from Jinja2>=3.1.2->Flask>=0.8->flask-ngrok) (2.1.3)\n"
     ]
    }
   ],
   "source": [
    "!pip install flask-ngrok\n",
    "\n"
   ]
  },
  {
   "cell_type": "markdown",
   "metadata": {
    "id": "pJVgHMRXp-ls"
   },
   "source": []
  },
  {
   "cell_type": "code",
   "execution_count": null,
   "metadata": {
    "id": "kRdZHM_IsxD9"
   },
   "outputs": [],
   "source": []
  },
  {
   "cell_type": "code",
   "execution_count": 47,
   "metadata": {
    "colab": {
     "base_uri": "https://localhost:8080/",
     "height": 17
    },
    "executionInfo": {
     "elapsed": 320,
     "status": "ok",
     "timestamp": 1732729053932,
     "user": {
      "displayName": "ouederni chadha",
      "userId": "02885416340215418691"
     },
     "user_tz": -60
    },
    "id": "PkMVONm2sw9f",
    "outputId": "5493ecaf-7123-4972-bed6-dc321c614e18"
   },
   "outputs": [
    {
     "data": {
      "text/plain": [
       "['scaler.pkl']"
      ]
     },
     "execution_count": 47,
     "metadata": {},
     "output_type": "execute_result"
    }
   ],
   "source": [
    "import joblib\n",
    "\n",
    "# Sauvegarder le modèle entraîné et le scaler\n",
    "joblib.dump(model, 'diabetes_model.pkl')\n",
    "joblib.dump(scaler, 'scaler.pkl')"
   ]
  },
  {
   "cell_type": "code",
   "execution_count": 36,
   "metadata": {
    "colab": {
     "base_uri": "https://localhost:8080/"
    },
    "executionInfo": {
     "elapsed": 177403,
     "status": "ok",
     "timestamp": 1732729675296,
     "user": {
      "displayName": "ouederni chadha",
      "userId": "02885416340215418691"
     },
     "user_tz": -60
    },
    "id": "7m_fcdA9udkD",
    "outputId": "830c8f42-1816-4792-e4a8-dcb412d8f2ec"
   },
   "outputs": [
    {
     "name": "stdout",
     "output_type": "stream",
     "text": [
      " * Serving Flask app '__main__'\n",
      " * Debug mode: off\n"
     ]
    },
    {
     "name": "stderr",
     "output_type": "stream",
     "text": [
      "WARNING: This is a development server. Do not use it in a production deployment. Use a production WSGI server instead.\n",
      " * Running on http://127.0.0.1:5000\n",
      "Press CTRL+C to quit\n",
      "Exception in thread Thread-16:\n",
      "Traceback (most recent call last):\n",
      "  File \"c:\\ProgramData\\anaconda3\\lib\\site-packages\\urllib3\\connection.py\", line 174, in _new_conn\n",
      "    conn = connection.create_connection(\n",
      "  File \"c:\\ProgramData\\anaconda3\\lib\\site-packages\\urllib3\\util\\connection.py\", line 95, in create_connection\n",
      "    raise err\n",
      "  File \"c:\\ProgramData\\anaconda3\\lib\\site-packages\\urllib3\\util\\connection.py\", line 85, in create_connection\n",
      "    sock.connect(sa)\n",
      "ConnectionRefusedError: [WinError 10061] Aucune connexion n’a pu être établie car l’ordinateur cible l’a expressément refusée\n",
      "\n",
      "During handling of the above exception, another exception occurred:\n",
      "\n",
      "Traceback (most recent call last):\n",
      "  File \"c:\\ProgramData\\anaconda3\\lib\\site-packages\\urllib3\\connectionpool.py\", line 715, in urlopen\n",
      "    httplib_response = self._make_request(\n",
      "  File \"c:\\ProgramData\\anaconda3\\lib\\site-packages\\urllib3\\connectionpool.py\", line 416, in _make_request\n",
      "    conn.request(method, url, **httplib_request_kw)\n",
      "  File \"c:\\ProgramData\\anaconda3\\lib\\site-packages\\urllib3\\connection.py\", line 244, in request\n",
      "    super(HTTPConnection, self).request(method, url, body=body, headers=headers)\n",
      "  File \"c:\\ProgramData\\anaconda3\\lib\\http\\client.py\", line 1285, in request\n",
      "    self._send_request(method, url, body, headers, encode_chunked)\n",
      "  File \"c:\\ProgramData\\anaconda3\\lib\\http\\client.py\", line 1331, in _send_request\n",
      "    self.endheaders(body, encode_chunked=encode_chunked)\n",
      "  File \"c:\\ProgramData\\anaconda3\\lib\\http\\client.py\", line 1280, in endheaders\n",
      "    self._send_output(message_body, encode_chunked=encode_chunked)\n",
      "  File \"c:\\ProgramData\\anaconda3\\lib\\http\\client.py\", line 1040, in _send_output\n",
      "    self.send(msg)\n",
      "  File \"c:\\ProgramData\\anaconda3\\lib\\http\\client.py\", line 980, in send\n",
      "    self.connect()\n",
      "  File \"c:\\ProgramData\\anaconda3\\lib\\site-packages\\urllib3\\connection.py\", line 205, in connect\n",
      "    conn = self._new_conn()\n",
      "  File \"c:\\ProgramData\\anaconda3\\lib\\site-packages\\urllib3\\connection.py\", line 186, in _new_conn\n",
      "    raise NewConnectionError(\n",
      "urllib3.exceptions.NewConnectionError: <urllib3.connection.HTTPConnection object at 0x00000267DB870A60>: Failed to establish a new connection: [WinError 10061] Aucune connexion n’a pu être établie car l’ordinateur cible l’a expressément refusée\n",
      "\n",
      "During handling of the above exception, another exception occurred:\n",
      "\n",
      "Traceback (most recent call last):\n",
      "  File \"c:\\ProgramData\\anaconda3\\lib\\site-packages\\requests\\adapters.py\", line 667, in send\n",
      "    resp = conn.urlopen(\n",
      "  File \"c:\\ProgramData\\anaconda3\\lib\\site-packages\\urllib3\\connectionpool.py\", line 801, in urlopen\n",
      "    retries = retries.increment(\n",
      "  File \"c:\\ProgramData\\anaconda3\\lib\\site-packages\\urllib3\\util\\retry.py\", line 594, in increment\n",
      "    raise MaxRetryError(_pool, url, error or ResponseError(cause))\n",
      "urllib3.exceptions.MaxRetryError: HTTPConnectionPool(host='localhost', port=4040): Max retries exceeded with url: /api/tunnels (Caused by NewConnectionError('<urllib3.connection.HTTPConnection object at 0x00000267DB870A60>: Failed to establish a new connection: [WinError 10061] Aucune connexion n’a pu être établie car l’ordinateur cible l’a expressément refusée'))\n",
      "\n",
      "During handling of the above exception, another exception occurred:\n",
      "\n",
      "Traceback (most recent call last):\n",
      "  File \"c:\\ProgramData\\anaconda3\\lib\\threading.py\", line 980, in _bootstrap_inner\n",
      "    self.run()\n",
      "  File \"c:\\ProgramData\\anaconda3\\lib\\threading.py\", line 1306, in run\n",
      "    self.function(*self.args, **self.kwargs)\n",
      "  File \"C:\\Users\\chadh\\AppData\\Roaming\\Python\\Python39\\site-packages\\flask_ngrok.py\", line 70, in start_ngrok\n",
      "    ngrok_address = _run_ngrok()\n",
      "  File \"C:\\Users\\chadh\\AppData\\Roaming\\Python\\Python39\\site-packages\\flask_ngrok.py\", line 35, in _run_ngrok\n",
      "    tunnel_url = requests.get(localhost_url).text  # Get the tunnel information\n",
      "  File \"c:\\ProgramData\\anaconda3\\lib\\site-packages\\requests\\api.py\", line 73, in get\n",
      "    return request(\"get\", url, params=params, **kwargs)\n",
      "  File \"c:\\ProgramData\\anaconda3\\lib\\site-packages\\requests\\api.py\", line 59, in request\n",
      "    return session.request(method=method, url=url, **kwargs)\n",
      "  File \"c:\\ProgramData\\anaconda3\\lib\\site-packages\\requests\\sessions.py\", line 589, in request\n",
      "    resp = self.send(prep, **send_kwargs)\n",
      "  File \"c:\\ProgramData\\anaconda3\\lib\\site-packages\\requests\\sessions.py\", line 703, in send\n",
      "    r = adapter.send(request, **kwargs)\n",
      "  File \"c:\\ProgramData\\anaconda3\\lib\\site-packages\\requests\\adapters.py\", line 700, in send\n",
      "    raise ConnectionError(e, request=request)\n",
      "requests.exceptions.ConnectionError: HTTPConnectionPool(host='localhost', port=4040): Max retries exceeded with url: /api/tunnels (Caused by NewConnectionError('<urllib3.connection.HTTPConnection object at 0x00000267DB870A60>: Failed to establish a new connection: [WinError 10061] Aucune connexion n’a pu être établie car l’ordinateur cible l’a expressément refusée'))\n",
      "127.0.0.1 - - [20/Jan/2025 16:53:45] \"GET / HTTP/1.1\" 200 -\n",
      "127.0.0.1 - - [20/Jan/2025 16:53:45] \"GET /favicon.ico HTTP/1.1\" 404 -\n"
     ]
    }
   ],
   "source": [
    "from flask_ngrok import run_with_ngrok\n",
    "\n",
    "app = Flask(__name__)\n",
    "run_with_ngrok(app)  # Expose l'application via Ngrok\n",
    "\n",
    "@app.route('/')\n",
    "def index():\n",
    "    return \"Hello from Flask via Ngrok!\"\n",
    "\n",
    "if __name__ == \"__main__\":\n",
    "    app.run()  # Pas besoin de spécifier `host` ou `port` si tu utilises Ngrok\n"
   ]
  }
 ],
 "metadata": {
  "colab": {
   "authorship_tag": "ABX9TyPsyWlIip+59+cC9dxpNdUT",
   "mount_file_id": "1MHVWqvakF5oOqf52nxs6OP3u4VpNNTbm",
   "provenance": []
  },
  "kernelspec": {
   "display_name": "base",
   "language": "python",
   "name": "python3"
  },
  "language_info": {
   "codemirror_mode": {
    "name": "ipython",
    "version": 3
   },
   "file_extension": ".py",
   "mimetype": "text/x-python",
   "name": "python",
   "nbconvert_exporter": "python",
   "pygments_lexer": "ipython3",
   "version": "3.9.21"
  }
 },
 "nbformat": 4,
 "nbformat_minor": 0
}
